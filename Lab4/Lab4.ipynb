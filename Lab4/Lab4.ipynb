{
 "cells": [
  {
   "cell_type": "markdown",
   "metadata": {},
   "source": [
    "<h1 align=\"center\">Machine Learning and Vision Lab</h1>\n",
    "<h4 align=\"center\">Dr. Mohammadzadeh</h4>\n",
    "<h4 align=\"center\">Sharif University of Technology, Fall 2023</h4>\n",
    "<h4 align=\"center\">Amir Hossein Yari - 99102507</h4>\n",
    "<h4 align=\"center\">Lab 4 - SVM Classification</h4>"
   ]
  },
  {
   "cell_type": "code",
   "execution_count": 10,
   "metadata": {},
   "outputs": [],
   "source": [
    "# Import required package\n",
    "import os\n",
    "import random\n",
    "import cv2\n",
    "import numpy as np\n",
    "from sklearn.decomposition import PCA\n",
    "import matplotlib.pyplot as plt\n",
    "from sklearn.metrics import accuracy_score\n",
    "from sklearn import svm\n",
    "from sklearn.metrics import confusion_matrix\n",
    "import seaborn as sns\n",
    "from sklearn.model_selection import GridSearchCV\n",
    "from sklearn.preprocessing import StandardScaler"
   ]
  },
  {
   "cell_type": "code",
   "execution_count": 11,
   "metadata": {},
   "outputs": [],
   "source": [
    "# Function to load images from a folder\n",
    "def load_images_from_folder(folder):\n",
    "    images = []\n",
    "    for filename in os.listdir(folder):\n",
    "        img = cv2.imread(os.path.join(folder, filename))\n",
    "        if img is not None:\n",
    "            images.append(img)\n",
    "    return images\n",
    "\n",
    "# Load images from the \"happy\" and \"surprise\" and \"disgust\" and \"neutral\" folders\n",
    "happy_images = load_images_from_folder(\"happy\")\n",
    "surprise_images = load_images_from_folder(\"surprise\")\n",
    "disgust_images = load_images_from_folder(\"disgust\")\n",
    "neutral_images = load_images_from_folder(\"neutral\")"
   ]
  },
  {
   "cell_type": "code",
   "execution_count": 12,
   "metadata": {},
   "outputs": [],
   "source": [
    "# Shuffle the images to randomize the selection\n",
    "random.shuffle(happy_images)\n",
    "random.shuffle(surprise_images)\n",
    "random.shuffle(disgust_images)\n",
    "random.shuffle(neutral_images)\n",
    "\n",
    "# Select desired number of images for training from each category\n",
    "happy_train_images = happy_images[:60]\n",
    "surprise_train_images = surprise_images[:60]\n",
    "disgust_train_images = disgust_images[:30]\n",
    "neutral_train_images = neutral_images[:120]\n",
    "\n",
    "# Use the remaining images as the test set\n",
    "happy_test_images = happy_images[60:]\n",
    "surprise_test_images = surprise_images[60:]\n",
    "disgust_test_images = disgust_images[30:]\n",
    "neutral_test_images = neutral_images[120:]\n",
    "\n",
    "# Combine the train and test sets\n",
    "train_images = happy_train_images + surprise_train_images + neutral_train_images\n",
    "test_images = happy_test_images + surprise_test_images + neutral_test_images\n",
    "\n",
    "# Convert the images to grayscale and flatten them\n",
    "train_data = [cv2.cvtColor(img, cv2.COLOR_BGR2GRAY).flatten() for img in train_images]\n",
    "test_data = [cv2.cvtColor(img, cv2.COLOR_BGR2GRAY).flatten() for img in test_images]\n",
    "\n",
    "# Normalized data\n",
    "scaler = StandardScaler()\n",
    "scaler = scaler.fit(train_data)\n",
    "train_data = scaler.transform(train_data)\n",
    "test_data = scaler.transform(test_data)"
   ]
  },
  {
   "cell_type": "code",
   "execution_count": 13,
   "metadata": {},
   "outputs": [],
   "source": [
    "# Perform PCA to reduce the dimension to 70\n",
    "n_components = 50\n",
    "pca = PCA(n_components=n_components)\n",
    "\n",
    "# Fit and transform the PCA on the training data\n",
    "train_pca = pca.fit_transform(train_data)\n",
    "\n",
    "# Transform the test data using the same PCA\n",
    "test_pca = pca.transform(test_data)\n",
    "\n",
    "# Define the class labels for the training data\n",
    "class_labels_train = [0] * len(happy_train_images) + [1] * len(surprise_train_images) + [3] * len(neutral_train_images) # 0 for \"happy,\" 1 for \"surprise\", 3 for \"neutral\"\n",
    "\n",
    "# Define the class labels for the training data\n",
    "class_labels_test = [0] * len(happy_test_images) + [1] * len(surprise_test_images) + [3] * len(neutral_test_images)# 0 for \"happy,\" 1 for \"surprise\", 3 for \"neutral\""
   ]
  },
  {
   "cell_type": "code",
   "execution_count": 14,
   "metadata": {},
   "outputs": [],
   "source": [
    "svm_classifier = svm.SVC(kernel='linear', C=1)\n",
    "\n",
    "# Fit the classifier to the training data\n",
    "svm_classifier.fit(train_pca, class_labels_train)\n",
    "\n",
    "# Make predictions on the test data\n",
    "y_pred = svm_classifier.predict(test_pca)\n",
    "\n",
    "# Calculate and display the confusion matrix\n",
    "conf_matrix = confusion_matrix(class_labels_test, y_pred)"
   ]
  },
  {
   "cell_type": "code",
   "execution_count": 15,
   "metadata": {},
   "outputs": [
    {
     "data": {
      "image/png": "[encoded data removed]",
      "text/plain": [
       "<Figure size 600x400 with 2 Axes>"
      ]
     },
     "metadata": {},
     "output_type": "display_data"
    }
   ],
   "source": [
    "plt.figure(figsize=(6, 4))\n",
    "sns.heatmap(conf_matrix, annot=True, fmt=\"d\", cmap=\"Blues\", cbar=True)\n",
    "plt.xlabel(\"Predicted Labels\")\n",
    "plt.ylabel(\"True Labels\")\n",
    "plt.title(\"Confusion Matrix\")\n",
    "plt.show()"
   ]
  },
  {
   "cell_type": "code",
   "execution_count": 16,
   "metadata": {},
   "outputs": [
    {
     "name": "stdout",
     "output_type": "stream",
     "text": [
      "Class 1 - Recall: 0.84, Precision: 0.91, Accuracy: 0.95\n",
      "Class 2 - Recall: 0.89, Precision: 0.81, Accuracy: 0.93\n",
      "Class 3 - Recall: 0.90, Precision: 0.91, Accuracy: 0.89\n"
     ]
    }
   ],
   "source": [
    "for i in range(3):\n",
    "    TP = conf_matrix[i, i]\n",
    "    FN = sum(conf_matrix[i, :]) - TP\n",
    "    FP = sum(conf_matrix[:, i]) - TP\n",
    "    TN = np.sum(conf_matrix) - (TP + FP + FN)\n",
    "\n",
    "    # Calculate Recall for class i\n",
    "    recall = TP / (TP + FN)\n",
    "    \n",
    "    # Calculate Precision for class i\n",
    "    precision = TP / (TP + FP)\n",
    "    \n",
    "    # Calculate Accuracy for class i\n",
    "    accuracy = (TP + TN) / (TP + TN + FP + FN)\n",
    "\n",
    "    print(f\"Class {i + 1} - Recall: {recall:.2f}, Precision: {precision:.2f}, Accuracy: {accuracy:.2f}\")\n"
   ]
  },
  {
   "cell_type": "code",
   "execution_count": 17,
   "metadata": {},
   "outputs": [],
   "source": [
    "def k_fold_cross_validation(X, y, classifier, k):\n",
    "    n = len(X)\n",
    "    fold_size = n // k\n",
    "    accuracies = []\n",
    "\n",
    "    for i in range(k):\n",
    "        # Split the data into training and testing sets for the current fold\n",
    "        test_indices = list(range(i * fold_size, (i + 1) * fold_size))\n",
    "        train_indices = [j for j in range(n) if j not in test_indices]\n",
    "\n",
    "        X_train, X_val= X[train_indices], X[test_indices]\n",
    "        y_train, y_val = y[train_indices], y[test_indices]\n",
    "\n",
    "        # Train the classifier on the training data\n",
    "        classifier.fit(X_train, y_train)\n",
    "\n",
    "        # Make predictions on the test data\n",
    "        y_pred = classifier.predict(X_val)\n",
    "\n",
    "        # Calculate accuracy for this fold\n",
    "        accuracy = np.mean(y_pred == y_val)\n",
    "        accuracies.append(accuracy)\n",
    "\n",
    "    return accuracies"
   ]
  },
  {
   "cell_type": "code",
   "execution_count": 29,
   "metadata": {},
   "outputs": [
    {
     "name": "stdout",
     "output_type": "stream",
     "text": [
      "average accuracy = 0.6708333333333334\n",
      "average accuracy = 0.7791666666666666\n",
      "average accuracy = 0.8166666666666668\n",
      "average accuracy = 0.8041666666666666\n",
      "average accuracy = 0.8041666666666666\n",
      "Best C value: 0.001\n"
     ]
    }
   ],
   "source": [
    "# Define a list of candidate C values to be tested\n",
    "C_values = [1e-5, 1e-4, 1e-3, 1e-2, 1e-1]\n",
    "\n",
    "# Perform k-fold cross-validation for each C value\n",
    "best_accuracy = 0\n",
    "best_C = None\n",
    "\n",
    "for C in C_values:\n",
    "    svm_classifier = svm.SVC(kernel='linear', C=C)\n",
    "    accuracies = k_fold_cross_validation(train_pca, np.array(class_labels_train), svm_classifier, 5)\n",
    "    \n",
    "    # Calculate and record the average accuracy for each C value\n",
    "    average_accuracy = np.mean(accuracies)\n",
    "    print(\"average accuracy = \" + str(average_accuracy))\n",
    "    \n",
    "    # Check if this C value has the highest average accuracy\n",
    "    if average_accuracy > best_accuracy:\n",
    "        best_accuracy = average_accuracy\n",
    "        best_C = C\n",
    "\n",
    "# Choose the C value that yields the best performance\n",
    "print(f\"Best C value: {best_C}\")"
   ]
  },
  {
   "cell_type": "code",
   "execution_count": 24,
   "metadata": {},
   "outputs": [
    {
     "data": {
      "image/png": "[encoded data removed]",
      "text/plain": [
       "<Figure size 600x400 with 2 Axes>"
      ]
     },
     "metadata": {},
     "output_type": "display_data"
    }
   ],
   "source": [
    "svm_classifier = svm.SVC(kernel='linear', C=0.001)\n",
    "\n",
    "# Fit the classifier to the training data\n",
    "svm_classifier.fit(train_pca, class_labels_train)\n",
    "\n",
    "# Make predictions on the test data\n",
    "y_pred = svm_classifier.predict(test_pca)\n",
    "\n",
    "# Calculate and display the confusion matrix\n",
    "conf_matrix_best = confusion_matrix(class_labels_test, y_pred)\n",
    "\n",
    "# plot confusion matrix\n",
    "plt.figure(figsize=(6, 4))\n",
    "sns.heatmap(conf_matrix_best, annot=True, fmt=\"d\", cmap=\"Blues\", cbar=True)\n",
    "plt.xlabel(\"Predicted Labels\")\n",
    "plt.ylabel(\"True Labels\")\n",
    "plt.title(\"Confusion Matrix\")\n",
    "plt.show()"
   ]
  },
  {
   "cell_type": "code",
   "execution_count": 25,
   "metadata": {},
   "outputs": [
    {
     "name": "stdout",
     "output_type": "stream",
     "text": [
      "Best C: 10\n",
      "Best Gamma: 1e-06\n"
     ]
    },
    {
     "data": {
      "image/png": "[encoded data removed]",
      "text/plain": [
       "<Figure size 600x400 with 2 Axes>"
      ]
     },
     "metadata": {},
     "output_type": "display_data"
    }
   ],
   "source": [
    "# Create an SVM classifier with an RBF kernel\n",
    "svm_classifier = svm.SVC(kernel='rbf')\n",
    "\n",
    "# Define a parameter grid to search for the best hyperparameters\n",
    "param_grid = {\n",
    "    'C': [0.1, 1, 10],\n",
    "    'gamma': [1e-4, 1e-5, 1e-6]\n",
    "}\n",
    "\n",
    "# Create a GridSearchCV object with the SVM classifier and parameter grid\n",
    "grid_search = GridSearchCV(svm_classifier, param_grid, cv=5, n_jobs=-1)\n",
    "\n",
    "# Fit the GridSearchCV to the training data\n",
    "grid_search.fit(train_pca, class_labels_train)\n",
    "\n",
    "# Get the best hyperparameters from the grid search\n",
    "best_params = grid_search.best_params_\n",
    "best_C = best_params['C']\n",
    "best_gamma = best_params['gamma']\n",
    "\n",
    "# Train an SVM classifier with the best hyperparameters on the full training set\n",
    "best_svm_classifier = svm.SVC(kernel='rbf', C=best_C, gamma=best_gamma)\n",
    "best_svm_classifier.fit(train_pca, class_labels_train)\n",
    "\n",
    "# Make predictions on the test data\n",
    "y_pred = best_svm_classifier.predict(test_pca)\n",
    "\n",
    "# Calculate the confusion matrix\n",
    "confusion = confusion_matrix(class_labels_test, y_pred)\n",
    "\n",
    "print(\"Best C:\", best_C)\n",
    "print(\"Best Gamma:\", best_gamma)\n",
    "\n",
    "# plot confusion matrix\n",
    "plt.figure(figsize=(6, 4))\n",
    "sns.heatmap(confusion, annot=True, fmt=\"d\", cmap=\"Blues\", cbar=True)\n",
    "plt.xlabel(\"Predicted Labels\")\n",
    "plt.ylabel(\"True Labels\")\n",
    "plt.title(\"Confusion Matrix\")\n",
    "plt.show()\n"
   ]
  },
  {
   "cell_type": "code",
   "execution_count": 26,
   "metadata": {},
   "outputs": [
    {
     "name": "stdout",
     "output_type": "stream",
     "text": [
      "Class 1 - Recall: 0.76, Precision: 0.90, Accuracy: 0.93\n",
      "Class 2 - Recall: 0.82, Precision: 1.00, Accuracy: 0.96\n",
      "Class 3 - Recall: 0.97, Precision: 0.86, Accuracy: 0.89\n"
     ]
    }
   ],
   "source": [
    "for i in range(3):\n",
    "    TP = confusion[i, i]\n",
    "    FN = sum(confusion[i, :]) - TP\n",
    "    FP = sum(confusion[:, i]) - TP\n",
    "    TN = np.sum(confusion) - (TP + FP + FN)\n",
    "\n",
    "    # Calculate Recall for class i\n",
    "    recall = TP / (TP + FN)\n",
    "    \n",
    "    # Calculate Precision for class i\n",
    "    precision = TP / (TP + FP)\n",
    "    \n",
    "    # Calculate Accuracy for class i\n",
    "    accuracy = (TP + TN) / (TP + TN + FP + FN)\n",
    "\n",
    "    print(f\"Class {i + 1} - Recall: {recall:.2f}, Precision: {precision:.2f}, Accuracy: {accuracy:.2f}\")\n"
   ]
  }
 ],
 "metadata": {
  "kernelspec": {
   "display_name": "Python 3",
   "language": "python",
   "name": "python3"
  },
  "language_info": {
   "codemirror_mode": {
    "name": "ipython",
    "version": 3
   },
   "file_extension": ".py",
   "mimetype": "text/x-python",
   "name": "python",
   "nbconvert_exporter": "python",
   "pygments_lexer": "ipython3",
   "version": "3.11.4"
  },
  "orig_nbformat": 4
 },
 "nbformat": 4,
 "nbformat_minor": 2
}
